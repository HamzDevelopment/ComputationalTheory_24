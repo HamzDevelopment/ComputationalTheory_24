{
 "cells": [
  {
   "cell_type": "markdown",
   "id": "193f8dee",
   "metadata": {},
   "source": [
    "# Countdown Numbers Game | G00379404\n",
    "\n",
    "---"
   ]
  },
  {
   "cell_type": "markdown",
   "id": "c82a3e7b",
   "metadata": {},
   "source": [
    "### What is the Countdown Numbers Game?"
   ]
  },
  {
   "cell_type": "markdown",
   "id": "35938946",
   "metadata": {},
   "source": [
    "The Countdown Numbers Game is a segment from the British game show \"Countdown,\" where contestants use arithmetic to solve a numerical puzzle. In each round, players are given six random numbers, drawn from a set that includes each number from 1 to 10 twice and the numbers 25, 50, 75, and 100 once. Their challenge is to reach a randomly generated target number between 101 and 999 within 30 seconds, using any combination of addition, subtraction, multiplication, and division. Each of the six numbers can be used only once, and operations must result in whole, positive numbers. The game tests contestants quick thinking and numerical agility.\n",
    "\n",
    "---"
   ]
  },
  {
   "cell_type": "markdown",
   "id": "013e884e",
   "metadata": {},
   "source": [
    "### Computational Complexity Analysis"
   ]
  },
  {
   "cell_type": "markdown",
   "id": "2a0a68dc",
   "metadata": {},
   "source": [
    "The complexity of this problem can be high. There are 6 numbers, and for each number, you have 4 choces of operations: (`+`, `−`, `×`, `÷`).\n",
    "This creates a large number of combinations to explore. Since this is a decision problem, it could be considered as NP-****\n",
    "\n",
    "*explain NP-Hard, NP-Complete and come up with possible answer.*\n",
    "\n",
    "---"
   ]
  },
  {
   "cell_type": "markdown",
   "id": "bde1b42b",
   "metadata": {},
   "source": [
    "### Approach to Solve Game"
   ]
  },
  {
   "cell_type": "markdown",
   "id": "d5c4729f",
   "metadata": {},
   "source": [
    "Write down steps and research...\n",
    "\n",
    "This solution of the game using recursive searching. The method  will explore all possible combinations of the given numbers.\n",
    "\n",
    "---"
   ]
  },
  {
   "cell_type": "markdown",
   "id": "a89a6063",
   "metadata": {},
   "source": [
    "### Solving Implementation"
   ]
  },
  {
   "cell_type": "code",
   "execution_count": 18,
   "id": "50544bde",
   "metadata": {},
   "outputs": [],
   "source": [
    "import random\n",
    "\n",
    "# Define operations for calculations.\n",
    "operations = {\n",
    "    '+': lambda x, y: x + y,\n",
    "    '-': lambda x, y: x - y,\n",
    "    '*': lambda x, y: x * y,\n",
    "    '/': lambda x, y: x // y if y != 0 and x % y == 0 else None,  # Ensure results is an integer when dividing.\n",
    "}\n",
    "\n",
    "def solve_countdown(numbers, target, path=[]):\n",
    "    \"\"\"\n",
    "    Recursively find a sequence of operations that transform the list of numbers into the target.    \n",
    "    \"\"\"\n",
    "    # If there's only one number left and it equals the target, a solution is found.\n",
    "    if len(numbers) == 1 and numbers[0] == target:\n",
    "        return True, path\n",
    "\n",
    "    # Try every combination of two numbers with every operation.\n",
    "    for i in range(len(numbers)):\n",
    "        for j in range(i + 1, len(numbers)):\n",
    "            for op_symbol, op_function in operations.items():\n",
    "                result = op_function(numbers[i], numbers[j])\n",
    "                if result is not None:\n",
    "                    new_numbers = [numbers[k] for k in range(len(numbers)) if k not in [i, j]] + [result]\n",
    "                    new_path = path + [(numbers[i], op_symbol, numbers[j], '=', result)]\n",
    "                    # Recursively attempt to solve with the new list of numbers and updated path.\n",
    "                    solution_found, solution_path = solve_countdown(new_numbers, target, new_path)\n",
    "                    if solution_found:\n",
    "                        return True, solution_path\n",
    "    # If no combination leads to the target.\n",
    "    return False, []\n"
   ]
  },
  {
   "cell_type": "code",
   "execution_count": 29,
   "id": "a8735442",
   "metadata": {},
   "outputs": [],
   "source": [
    "import random\n",
    "\n",
    "def generate_game():\n",
    "    \"\"\"\n",
    "    Generates a random game scenario for the Countdown Numbers Game.\n",
    "    \"\"\"\n",
    "    # Small numbers: two sets of 1 through 10\n",
    "    small_numbers = list(range(1, 11)) * 2\n",
    "\n",
    "    # Large numbers: one set of 25, 50, 75, 100\n",
    "    large_numbers = [25, 50, 75, 100]\n",
    "\n",
    "    # Choose the specified number of large numbers and the rest from small numbers\n",
    "    chosen_large_numbers = random.sample(large_numbers, 2)\n",
    "    chosen_small_numbers = random.sample(small_numbers, 4)\n",
    "\n",
    "    chosen_numbers = chosen_large_numbers + chosen_small_numbers\n",
    "\n",
    "    # Generating a random target number between 101 and 999\n",
    "    target_number = random.randint(101, 999)\n",
    "\n",
    "    return chosen_numbers, target_number"
   ]
  },
  {
   "cell_type": "code",
   "execution_count": 30,
   "id": "85e066c7",
   "metadata": {},
   "outputs": [
    {
     "name": "stdout",
     "output_type": "stream",
     "text": [
      "Solution Found:\n",
      "50 - 4 = 46\n",
      "3 * 46 = 138\n",
      "7 * 20 = 140\n",
      "138 + 140 = 278\n",
      "2 * 278 = 556\n"
     ]
    }
   ],
   "source": [
    "# Fixed Usage Example\n",
    "numbers = [50, 4, 3, 7, 2, 20]\n",
    "target = 556\n",
    "solution_found, solution_path = solve_countdown(numbers, target)\n",
    "\n",
    "# Print the solution if found.\n",
    "if solution_found:\n",
    "    print(\"Solution Found:\")\n",
    "    for step in solution_path:\n",
    "        print(f\"{step[0]} {step[1]} {step[2]} = {step[4]}\")\n",
    "else:\n",
    "    print(\"No solution found.\")"
   ]
  },
  {
   "cell_type": "code",
   "execution_count": 34,
   "id": "e8b25e89",
   "metadata": {},
   "outputs": [
    {
     "name": "stdout",
     "output_type": "stream",
     "text": [
      "Numbers: [25, 50, 7, 2, 8, 4]\n",
      "Target Number: 879\n",
      "Solution Found:\n",
      "25 * 50 = 1250\n",
      "7 * 1250 = 8750\n",
      "2 + 8 = 10\n",
      "8750 / 10 = 875\n",
      "4 + 875 = 879\n"
     ]
    }
   ],
   "source": [
    "# Generated Game Example\n",
    "chosen_numbers, target_number = generate_game()\n",
    "print(\"Numbers:\", chosen_numbers)\n",
    "print(\"Target Number:\", target_number)\n",
    "\n",
    "solution_found, solution_path = solve_countdown(chosen_numbers, target_number)\n",
    "\n",
    "# Print the solution if found.\n",
    "if solution_found:\n",
    "    print(\"Solution Found:\")\n",
    "    for step in solution_path:\n",
    "        print(f\"{step[0]} {step[1]} {step[2]} = {step[4]}\")\n",
    "else:\n",
    "    print(\"No solution found.\")"
   ]
  },
  {
   "cell_type": "markdown",
   "id": "3b41d4ae",
   "metadata": {},
   "source": [
    "---\n",
    "### References"
   ]
  },
  {
   "cell_type": "markdown",
   "id": "056333df",
   "metadata": {},
   "source": [
    "- [What are the differences between NP, NP-Complete and NP-Hard?](https://stackoverflow.com/questions/1857244/what-are-the-differences-between-np-np-complete-and-np-hard)\n",
    "\n",
    "- [Name of the Countdown Numbers round problem - and algorithmic solutions?](https://softwareengineering.stackexchange.com/questions/213924/name-of-the-countdown-numbers-round-problem-and-algorithmic-solutions)\n",
    "\n",
    "- https://www.ttested.com/polish-countdown/"
   ]
  },
  {
   "cell_type": "code",
   "execution_count": null,
   "id": "e3d18c30",
   "metadata": {},
   "outputs": [],
   "source": []
  }
 ],
 "metadata": {
  "kernelspec": {
   "display_name": "Python 3 (ipykernel)",
   "language": "python",
   "name": "python3"
  },
  "language_info": {
   "codemirror_mode": {
    "name": "ipython",
    "version": 3
   },
   "file_extension": ".py",
   "mimetype": "text/x-python",
   "name": "python",
   "nbconvert_exporter": "python",
   "pygments_lexer": "ipython3",
   "version": "3.9.7"
  }
 },
 "nbformat": 4,
 "nbformat_minor": 5
}
