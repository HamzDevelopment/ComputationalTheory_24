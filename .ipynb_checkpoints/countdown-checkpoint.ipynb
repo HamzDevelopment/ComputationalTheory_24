{
 "cells": [
  {
   "cell_type": "markdown",
   "id": "193f8dee",
   "metadata": {},
   "source": [
    "# Countdown Numbers Game | G00379404\n",
    "\n",
    "---"
   ]
  },
  {
   "cell_type": "markdown",
   "id": "c82a3e7b",
   "metadata": {},
   "source": [
    "### What is the Countdown Numbers Game?"
   ]
  },
  {
   "cell_type": "markdown",
   "id": "35938946",
   "metadata": {},
   "source": [
    "The Countdown Numbers Game is a segment from the British game show \"Countdown,\" where contestants use arithmetic to solve a numerical puzzle. In each round, players are given six random numbers, drawn from a set that includes each number from 1 to 10 twice and the numbers 25, 50, 75, and 100 once. Their challenge is to reach a randomly generated target number between 101 and 999 within 30 seconds, using any combination of addition, subtraction, multiplication, and division. Each of the six numbers can be used only once, and operations must result in whole, positive numbers. The game tests contestants quick thinking and numerical agility.\n",
    "\n",
    "---"
   ]
  },
  {
   "cell_type": "markdown",
   "id": "013e884e",
   "metadata": {},
   "source": [
    "### Computational Complexity Analysis"
   ]
  },
  {
   "cell_type": "markdown",
   "id": "2a0a68dc",
   "metadata": {},
   "source": [
    "The complexity of this problem can be high. There are 6 numbers, and for each number, you have 4 choces of operations: (`+`, `−`, `×`, `÷`).\n",
    "This creates a large number of combinations to explore. Since this is a decision problem, it could be considered as NP-****\n",
    "\n",
    "*explain NP-Hard, NP-Complete and come up with possible answer.*\n",
    "\n",
    "---"
   ]
  },
  {
   "cell_type": "markdown",
   "id": "bde1b42b",
   "metadata": {},
   "source": [
    "### Approach to Solve Game"
   ]
  },
  {
   "cell_type": "markdown",
   "id": "a89a6063",
   "metadata": {},
   "source": []
  },
  {
   "cell_type": "markdown",
   "id": "3b41d4ae",
   "metadata": {},
   "source": [
    "### References"
   ]
  },
  {
   "cell_type": "markdown",
   "id": "056333df",
   "metadata": {},
   "source": [
    "- [What are the differences between NP, NP-Complete and NP-Hard?](https://stackoverflow.com/questions/1857244/what-are-the-differences-between-np-np-complete-and-np-hard)\n",
    "\n",
    "- [Name of the Countdown Numbers round problem - and algorithmic solutions?](https://softwareengineering.stackexchange.com/questions/213924/name-of-the-countdown-numbers-round-problem-and-algorithmic-solutions)"
   ]
  }
 ],
 "metadata": {
  "kernelspec": {
   "display_name": "Python 3 (ipykernel)",
   "language": "python",
   "name": "python3"
  },
  "language_info": {
   "codemirror_mode": {
    "name": "ipython",
    "version": 3
   },
   "file_extension": ".py",
   "mimetype": "text/x-python",
   "name": "python",
   "nbconvert_exporter": "python",
   "pygments_lexer": "ipython3",
   "version": "3.9.18"
  }
 },
 "nbformat": 4,
 "nbformat_minor": 5
}
