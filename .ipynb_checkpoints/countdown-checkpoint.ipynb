{
 "cells": [
  {
   "cell_type": "markdown",
   "id": "193f8dee",
   "metadata": {},
   "source": [
    "# Countdown Numbers Game"
   ]
  },
  {
   "cell_type": "markdown",
   "id": "35938946",
   "metadata": {},
   "source": [
    "The Countdown Numbers Game is a segment from the British game show \"Countdown,\" where contestants use arithmetic to solve a numerical puzzle. In each round, players are given six random numbers, drawn from a set that includes each number from 1 to 10 twice and the numbers 25, 50, 75, and 100 once. Their challenge is to reach a randomly generated target number between 101 and 999 within 30 seconds, using any combination of addition, subtraction, multiplication, and division. Each of the six numbers can be used only once, and operations must result in whole, positive numbers. The game tests contestants' quick thinking and numerical agility."
   ]
  }
 ],
 "metadata": {
  "kernelspec": {
   "display_name": "Python 3 (ipykernel)",
   "language": "python",
   "name": "python3"
  },
  "language_info": {
   "codemirror_mode": {
    "name": "ipython",
    "version": 3
   },
   "file_extension": ".py",
   "mimetype": "text/x-python",
   "name": "python",
   "nbconvert_exporter": "python",
   "pygments_lexer": "ipython3",
   "version": "3.9.7"
  }
 },
 "nbformat": 4,
 "nbformat_minor": 5
}
